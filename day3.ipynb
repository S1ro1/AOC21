{
 "cells": [
  {
   "cell_type": "code",
   "execution_count": 361,
   "metadata": {
    "collapsed": true
   },
   "outputs": [],
   "source": [
    "with open(\"data/day3\", \"r\") as f:\n",
    "    lines = [x.strip() for x in f.readlines()]"
   ]
  },
  {
   "cell_type": "code",
   "execution_count": 362,
   "outputs": [],
   "source": [
    "def most_frequent(l):\n",
    "    return max(set(l), key=l.count)\n",
    "\n",
    "def least_frequent(l):\n",
    "    return min(set(l), key=l.count)\n",
    "\n",
    "#if equal, it's '1'"
   ],
   "metadata": {
    "collapsed": false,
    "pycharm": {
     "name": "#%%\n"
    }
   }
  },
  {
   "cell_type": "code",
   "execution_count": 363,
   "outputs": [
    {
     "data": {
      "text/plain": "2648450"
     },
     "execution_count": 363,
     "metadata": {},
     "output_type": "execute_result"
    }
   ],
   "source": [
    "def frequency(lst):\n",
    "    line_data = []\n",
    "    most = []\n",
    "    least = []\n",
    "    for i in range(len(lst[0])):\n",
    "        for line in lst:\n",
    "            line_data.append(line[i])\n",
    "\n",
    "        least.append(least_frequent(line_data))\n",
    "        most.append(most_frequent(line_data))\n",
    "        line_data = []\n",
    "\n",
    "    return most, least\n",
    "\n",
    "int(\"\".join(frequency(lines)[0]), 2) * int(\"\".join(frequency(lines)[1]), 2)"
   ],
   "metadata": {
    "collapsed": false,
    "pycharm": {
     "name": "#%%\n"
    }
   }
  },
  {
   "cell_type": "code",
   "execution_count": 364,
   "outputs": [],
   "source": [
    "i = 0"
   ],
   "metadata": {
    "collapsed": false,
    "pycharm": {
     "name": "#%%\n"
    }
   }
  },
  {
   "cell_type": "code",
   "execution_count": 365,
   "outputs": [],
   "source": [
    "def oxygen(l):\n",
    "    global i\n",
    "    most = frequency(l)[0]\n",
    "    least = frequency(l)[1]\n",
    "    correct = []\n",
    "    if most[i] == least[i]:\n",
    "        char = \"1\"\n",
    "    else:\n",
    "        char = most[i]\n",
    "    for line in l:\n",
    "        if line[i] == char:\n",
    "            correct.append(line)\n",
    "\n",
    "    i += 1\n",
    "    if len(correct) == 1:\n",
    "        return correct\n",
    "    else:\n",
    "        return oxygen(correct)"
   ],
   "metadata": {
    "collapsed": false,
    "pycharm": {
     "name": "#%%\n"
    }
   }
  },
  {
   "cell_type": "code",
   "execution_count": 366,
   "outputs": [],
   "source": [
    "j = 0"
   ],
   "metadata": {
    "collapsed": false,
    "pycharm": {
     "name": "#%%\n"
    }
   }
  },
  {
   "cell_type": "code",
   "execution_count": 367,
   "outputs": [],
   "source": [
    "def co2(l):\n",
    "    global j\n",
    "    most = frequency(l)[0]\n",
    "    least = frequency(l)[1]\n",
    "    correct = []\n",
    "    if most[j] == least[j]:\n",
    "        char = \"0\"\n",
    "    else:\n",
    "        char = least[j]\n",
    "    for line in l:\n",
    "        if line[j] == char:\n",
    "            correct.append(line)\n",
    "\n",
    "    j += 1\n",
    "    if len(correct) == 1:\n",
    "        return correct\n",
    "    else:\n",
    "        return co2(correct)"
   ],
   "metadata": {
    "collapsed": false,
    "pycharm": {
     "name": "#%%\n"
    }
   }
  },
  {
   "cell_type": "code",
   "execution_count": 368,
   "outputs": [
    {
     "data": {
      "text/plain": "2845944"
     },
     "execution_count": 368,
     "metadata": {},
     "output_type": "execute_result"
    }
   ],
   "source": [
    "int(\"\".join(co2(lines)), 2) * int(\"\".join(oxygen(lines)), 2)"
   ],
   "metadata": {
    "collapsed": false,
    "pycharm": {
     "name": "#%%\n"
    }
   }
  }
 ],
 "metadata": {
  "kernelspec": {
   "display_name": "Python 3",
   "language": "python",
   "name": "python3"
  },
  "language_info": {
   "codemirror_mode": {
    "name": "ipython",
    "version": 2
   },
   "file_extension": ".py",
   "mimetype": "text/x-python",
   "name": "python",
   "nbconvert_exporter": "python",
   "pygments_lexer": "ipython2",
   "version": "2.7.6"
  }
 },
 "nbformat": 4,
 "nbformat_minor": 0
}