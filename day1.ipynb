{
 "cells": [
  {
   "cell_type": "code",
   "execution_count": 55,
   "metadata": {
    "collapsed": true
   },
   "outputs": [],
   "source": [
    "with open(\"data/day1a.txt\", \"r\") as f:\n",
    "    lines = f.readlines()\n",
    "\n",
    "lines = [int(x.strip()) for x in lines]"
   ]
  },
  {
   "cell_type": "code",
   "execution_count": 56,
   "outputs": [
    {
     "data": {
      "text/plain": "1228"
     },
     "execution_count": 56,
     "metadata": {},
     "output_type": "execute_result"
    }
   ],
   "source": [
    "#first star\n",
    "count = 0\n",
    "\n",
    "for i in range(len(lines)-1):\n",
    "    if lines[i+1] > lines[i]:\n",
    "        count += 1\n",
    "\n",
    "count"
   ],
   "metadata": {
    "collapsed": false,
    "pycharm": {
     "name": "#%%\n"
    }
   }
  },
  {
   "cell_type": "code",
   "execution_count": 57,
   "outputs": [
    {
     "data": {
      "text/plain": "1257"
     },
     "execution_count": 57,
     "metadata": {},
     "output_type": "execute_result"
    }
   ],
   "source": [
    "#second star\n",
    "prev = 0\n",
    "curr = 0\n",
    "count = 0\n",
    "\n",
    "for i in range(len(lines)):\n",
    "    if i == 2:\n",
    "        prev = lines[0]+lines[1]+lines[2]\n",
    "    elif i > 2:\n",
    "        curr = sum(lines[i-2:i+1])\n",
    "        if curr > prev:\n",
    "            count += 1\n",
    "        prev = curr\n",
    "    else:\n",
    "        pass\n",
    "\n",
    "count"
   ],
   "metadata": {
    "collapsed": false,
    "pycharm": {
     "name": "#%%\n"
    }
   }
  }
 ],
 "metadata": {
  "kernelspec": {
   "display_name": "Python 3",
   "language": "python",
   "name": "python3"
  },
  "language_info": {
   "codemirror_mode": {
    "name": "ipython",
    "version": 2
   },
   "file_extension": ".py",
   "mimetype": "text/x-python",
   "name": "python",
   "nbconvert_exporter": "python",
   "pygments_lexer": "ipython2",
   "version": "2.7.6"
  }
 },
 "nbformat": 4,
 "nbformat_minor": 0
}