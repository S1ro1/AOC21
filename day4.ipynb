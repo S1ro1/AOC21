{
 "cells": [
  {
   "cell_type": "code",
   "execution_count": 335,
   "metadata": {
    "collapsed": true,
    "pycharm": {
     "name": "#%%\n"
    }
   },
   "outputs": [
    {
     "data": {
      "text/plain": "array([[[68, 16, 83, 90, 69],\n        [14, 89, 72, 33,  6],\n        [63, 21, 43, 64, 76],\n        [79, 65, 87, 98, 85],\n        [41, 24, 32, 53, 93]],\n\n       [[15, 94, 72, 30,  6],\n        [14, 80, 66,  4, 78],\n        [44, 81, 68, 67, 96],\n        [65, 21, 64, 97, 35],\n        [84, 90, 28, 60,  2]],\n\n       [[97, 39, 61, 15, 94],\n        [75, 14, 66, 98, 31],\n        [58, 80,  9, 64, 56],\n        [19, 42, 16, 85, 37],\n        [25, 22, 38, 65, 82]],\n\n       ...,\n\n       [[62, 23, 48, 80, 28],\n        [68,  2, 71, 89, 36],\n        [13, 95, 64, 98,  8],\n        [60, 86, 51, 74, 11],\n        [35, 27, 66, 78,  7]],\n\n       [[65,  9, 57, 85, 30],\n        [29, 52, 27, 83, 98],\n        [ 7, 48, 45, 21, 93],\n        [ 5, 71, 54, 34, 91],\n        [96, 87, 25, 84, 63]],\n\n       [[38, 94, 65, 69, 18],\n        [79, 81, 80, 36, 91],\n        [17,  2, 23, 53, 98],\n        [92, 68, 21, 74, 55],\n        [ 3, 58, 72, 70, 86]]])"
     },
     "execution_count": 335,
     "metadata": {},
     "output_type": "execute_result"
    }
   ],
   "source": [
    "import numpy as np\n",
    "\n",
    "with open(\"data/day4.txt\", \"r\") as f:\n",
    "    nums = [int(x) for x in f.readline().split(\",\")]\n",
    "    final = []\n",
    "    f.readline()\n",
    "\n",
    "    boards = (\"\".join(f.readlines())).split(\"\\n\\n\")\n",
    "\n",
    "    for board in boards:\n",
    "        finalized = board.split(\"\\n\")\n",
    "        final.append(finalized)\n",
    "\n",
    "final = [[[int(z) for z in x.split()] for x in y] for y in final]\n",
    "np.array(final)"
   ]
  },
  {
   "cell_type": "code",
   "execution_count": 336,
   "outputs": [
    {
     "name": "stdout",
     "output_type": "stream",
     "text": [
      "[[62, 23, 48, 80, 28], [68, 2, 71, 89, 36], [13, 95, 64, 98, 8], [60, 86, 51, 74, 11], [35, 27, 66, 78, 7]] 6 526 47866\n"
     ]
    }
   ],
   "source": [
    "used = []\n",
    "total = 0\n",
    "empty_board = np.zeros_like(final)\n",
    "for num in nums:\n",
    "    used.append(num)\n",
    "    for index, arr in enumerate(final):\n",
    "        for inner, row in enumerate(arr):\n",
    "            for inner_2, element in enumerate(row):\n",
    "                if element == num:\n",
    "                    empty_board[index][inner][inner_2] = -1\n",
    "\n",
    "        if -5 in np.sum(empty_board[index], axis=1) or -5 in np.sum(empty_board[index], axis=0):\n",
    "            if len(final) == 1:\n",
    "                final_list = final[0]\n",
    "                for l in final_list:\n",
    "                    for number in l:\n",
    "                        if number not in used:\n",
    "                            total += number\n",
    "                print(f\"{final[index]} {used[-2]} {total} {num*total}\")\n",
    "            final.remove(arr)"
   ],
   "metadata": {
    "collapsed": false,
    "pycharm": {
     "name": "#%%\n"
    }
   }
  }
 ],
 "metadata": {
  "kernelspec": {
   "display_name": "Python 3",
   "language": "python",
   "name": "python3"
  },
  "language_info": {
   "codemirror_mode": {
    "name": "ipython",
    "version": 2
   },
   "file_extension": ".py",
   "mimetype": "text/x-python",
   "name": "python",
   "nbconvert_exporter": "python",
   "pygments_lexer": "ipython2",
   "version": "2.7.6"
  }
 },
 "nbformat": 4,
 "nbformat_minor": 0
}