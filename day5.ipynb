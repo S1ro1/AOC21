{
 "cells": [
  {
   "cell_type": "code",
   "execution_count": 150,
   "metadata": {
    "collapsed": true,
    "pycharm": {
     "name": "#%%\n"
    }
   },
   "outputs": [
    {
     "data": {
      "text/plain": "((7, 7), (9, 9))"
     },
     "execution_count": 150,
     "metadata": {},
     "output_type": "execute_result"
    }
   ],
   "source": [
    "x_start, y_start, x_end, y_end = [], [], [], []\n",
    "\n",
    "with open(\"data/day5.txt\", \"r\") as f:\n",
    "    for line in f:\n",
    "        line = line.strip()\n",
    "        line_r = line.replace(\" -> \", \",\")\n",
    "        line_split = line_r.split(\",\")\n",
    "        x1 = int(line_split[0])\n",
    "        x2 = int(line_split[2])\n",
    "        y1 = int(line_split[1])\n",
    "        y2 = int(line_split[3])\n",
    "\n",
    "        x_start.append(x1)\n",
    "        x_end.append(x2)\n",
    "        y_start.append(y1)\n",
    "        y_end.append(y2)\n",
    "\n",
    "\n",
    "max_x = max(zip(x_start, x_end))\n",
    "max_y = max(zip(y_start, y_end))\n",
    "max_x, max_y"
   ]
  },
  {
   "cell_type": "code",
   "execution_count": 151,
   "outputs": [],
   "source": [
    "import numpy as np\n",
    "\n",
    "board = np.zeros(shape=(max(x_end) + 1, max(y_end) + 1))"
   ],
   "metadata": {
    "collapsed": false,
    "pycharm": {
     "name": "#%%\n"
    }
   }
  },
  {
   "cell_type": "code",
   "execution_count": 152,
   "outputs": [
    {
     "name": "stdout",
     "output_type": "stream",
     "text": [
      "x: (0, 8), y: (0, 8)\n",
      "filling coordinates (0, 0)\n",
      "filling coordinates (1, 1)\n",
      "filling coordinates (2, 2)\n",
      "filling coordinates (3, 3)\n",
      "filling coordinates (4, 4)\n",
      "filling coordinates (5, 5)\n",
      "filling coordinates (6, 6)\n",
      "filling coordinates (7, 7)\n",
      "filling coordinates (8, 8)\n",
      "x: (2, 6), y: (0, 4)\n",
      "filling coordinates (0, 2)\n",
      "filling coordinates (1, 3)\n",
      "filling coordinates (2, 4)\n",
      "filling coordinates (3, 5)\n",
      "filling coordinates (4, 6)\n",
      "x: (0, 8), y: (0, 8)\n",
      "filling coordinates (0, 0)\n",
      "filling coordinates (1, 1)\n",
      "filling coordinates (2, 2)\n",
      "filling coordinates (3, 3)\n",
      "filling coordinates (4, 4)\n",
      "filling coordinates (5, 5)\n",
      "filling coordinates (6, 6)\n",
      "filling coordinates (7, 7)\n",
      "filling coordinates (8, 8)\n",
      "x: (5, 8), y: (2, 5)\n",
      "filling coordinates (2, 5)\n",
      "filling coordinates (3, 6)\n",
      "filling coordinates (4, 7)\n",
      "filling coordinates (5, 8)\n"
     ]
    }
   ],
   "source": [
    "for x_s, y_s, x_e, y_e in zip(x_start, y_start, x_end, y_end):\n",
    "    if x_s == x_e:\n",
    "        for i in range(abs(y_s - y_e)):\n",
    "            board[abs(y_s - y_e + i)][x_s] += 1\n",
    "    elif y_s == y_e:\n",
    "        for j in range (x_s, x_e + 1):\n",
    "            board[y_s][j] += 1\n",
    "    elif x_s != x_e and y_s != y_e:\n",
    "\n",
    "\n",
    "\n",
    "count = 0\n",
    "\n",
    "for row in board:\n",
    "    for element in row:\n",
    "        if element > 1:\n",
    "            count += 1"
   ],
   "metadata": {
    "collapsed": false,
    "pycharm": {
     "name": "#%%\n"
    }
   }
  },
  {
   "cell_type": "code",
   "execution_count": 152,
   "outputs": [],
   "source": [],
   "metadata": {
    "collapsed": false,
    "pycharm": {
     "name": "#%%\n"
    }
   }
  }
 ],
 "metadata": {
  "kernelspec": {
   "display_name": "Python 3",
   "language": "python",
   "name": "python3"
  },
  "language_info": {
   "codemirror_mode": {
    "name": "ipython",
    "version": 2
   },
   "file_extension": ".py",
   "mimetype": "text/x-python",
   "name": "python",
   "nbconvert_exporter": "python",
   "pygments_lexer": "ipython2",
   "version": "2.7.6"
  }
 },
 "nbformat": 4,
 "nbformat_minor": 0
}