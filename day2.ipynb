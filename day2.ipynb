{
 "cells": [
  {
   "cell_type": "code",
   "execution_count": 122,
   "metadata": {
    "collapsed": true
   },
   "outputs": [],
   "source": [
    "direction = {\"forward\" : 0,\n",
    "             \"up\" : 0,\n",
    "             \"down\" : 0}"
   ]
  },
  {
   "cell_type": "code",
   "execution_count": 123,
   "outputs": [],
   "source": [
    "with open (\"data/day2.txt\", \"r\") as f:\n",
    "    for line in f:\n",
    "        line = line.strip()\n",
    "        direction[line.split(\" \")[0]] += int(line.split(\" \")[1])"
   ],
   "metadata": {
    "collapsed": false,
    "pycharm": {
     "name": "#%%\n"
    }
   }
  },
  {
   "cell_type": "code",
   "execution_count": 124,
   "outputs": [
    {
     "data": {
      "text/plain": "1660158"
     },
     "execution_count": 124,
     "metadata": {},
     "output_type": "execute_result"
    }
   ],
   "source": [
    "depth = direction[\"down\"] - direction[\"up\"]\n",
    "forward = direction[\"forward\"]\n",
    "\n",
    "depth * forward"
   ],
   "metadata": {
    "collapsed": false,
    "pycharm": {
     "name": "#%%\n"
    }
   }
  },
  {
   "cell_type": "code",
   "execution_count": 125,
   "outputs": [],
   "source": [
    "#part 2\n",
    "\n",
    "direction = {\"forward\": 0,\n",
    "             \"aim\": 0,\n",
    "             \"depth\" : 0}"
   ],
   "metadata": {
    "collapsed": false,
    "pycharm": {
     "name": "#%%\n"
    }
   }
  },
  {
   "cell_type": "code",
   "execution_count": 126,
   "outputs": [],
   "source": [
    "with open(\"data/day2.txt\", \"r\") as f:\n",
    "    f.seek(0)\n",
    "    for line in f:\n",
    "        line = line.strip()\n",
    "        command = line.split(\" \")[0]\n",
    "        length = int(line.split(\" \")[1])\n",
    "\n",
    "        if command == \"down\":\n",
    "            direction[\"aim\"] += length\n",
    "        elif command == \"up\":\n",
    "            direction[\"aim\"] -= length\n",
    "        elif command == \"forward\":\n",
    "            direction[\"depth\"] += direction[\"aim\"] * length\n",
    "            direction[command] += length"
   ],
   "metadata": {
    "collapsed": false,
    "pycharm": {
     "name": "#%%\n"
    }
   }
  },
  {
   "cell_type": "code",
   "execution_count": 127,
   "outputs": [
    {
     "data": {
      "text/plain": "1604592846"
     },
     "execution_count": 127,
     "metadata": {},
     "output_type": "execute_result"
    }
   ],
   "source": [
    "direction[\"depth\"] * direction[\"forward\"]"
   ],
   "metadata": {
    "collapsed": false,
    "pycharm": {
     "name": "#%%\n"
    }
   }
  }
 ],
 "metadata": {
  "kernelspec": {
   "display_name": "Python 3",
   "language": "python",
   "name": "python3"
  },
  "language_info": {
   "codemirror_mode": {
    "name": "ipython",
    "version": 2
   },
   "file_extension": ".py",
   "mimetype": "text/x-python",
   "name": "python",
   "nbconvert_exporter": "python",
   "pygments_lexer": "ipython2",
   "version": "2.7.6"
  }
 },
 "nbformat": 4,
 "nbformat_minor": 0
}